{
  "nbformat": 4,
  "nbformat_minor": 0,
  "metadata": {
    "colab": {
      "provenance": [],
      "authorship_tag": "ABX9TyMLOj0b7cr157TKRwHqv12H",
      "include_colab_link": true
    },
    "kernelspec": {
      "name": "python3",
      "display_name": "Python 3"
    },
    "language_info": {
      "name": "python"
    }
  },
  "cells": [
    {
      "cell_type": "markdown",
      "metadata": {
        "id": "view-in-github",
        "colab_type": "text"
      },
      "source": [
        "<a href=\"https://colab.research.google.com/github/krishks10/Colab/blob/main/Chapter7_PS.ipynb\" target=\"_parent\"><img src=\"https://colab.research.google.com/assets/colab-badge.svg\" alt=\"Open In Colab\"/></a>"
      ]
    },
    {
      "cell_type": "code",
      "execution_count": null,
      "metadata": {
        "colab": {
          "base_uri": "https://localhost:8080/"
        },
        "id": "yub7SuoQMCpV",
        "outputId": "8e591ed4-579d-49aa-82c2-a40c0be7dbc3"
      },
      "outputs": [
        {
          "output_type": "stream",
          "name": "stdout",
          "text": [
            "Enter a no.: 2\n",
            "2 X 1 = 2\n",
            "2 X 2 = 4\n",
            "2 X 3 = 6\n",
            "2 X 4 = 8\n",
            "2 X 5 = 10\n",
            "2 X 6 = 12\n",
            "2 X 7 = 14\n",
            "2 X 8 = 16\n",
            "2 X 9 = 18\n",
            "2 X 10 = 20\n"
          ]
        }
      ],
      "source": [
        "n = int(input(\"Enter a no.: \"))\n",
        "\n",
        "for i in range(1, 11):\n",
        "    print(f\"{n} X {i} = {n * i}\")"
      ]
    },
    {
      "cell_type": "code",
      "source": [
        "l = [\"Harry\", \"Soham\", \"Sachin\", \"Rahul\"]\n",
        "\n",
        "for name in l:\n",
        "    if(name.startswith(\"S\")):\n",
        "        print(f\"Hello {name}\")"
      ],
      "metadata": {
        "colab": {
          "base_uri": "https://localhost:8080/"
        },
        "id": "5k8FKyR0SR-N",
        "outputId": "1e6da061-95da-4e89-c989-28a4864a33e8"
      },
      "execution_count": null,
      "outputs": [
        {
          "output_type": "stream",
          "name": "stdout",
          "text": [
            "Hello Soham\n",
            "Hello Sachin\n"
          ]
        }
      ]
    },
    {
      "cell_type": "code",
      "source": [
        "n = int(input(\"Enter a number: \"))\n",
        "\n",
        "i = 1\n",
        "\n",
        "while(i<11):\n",
        "    print(f\"{n} X {i} = {n * i}\")\n",
        "    i += 1"
      ],
      "metadata": {
        "colab": {
          "base_uri": "https://localhost:8080/"
        },
        "id": "kv3hlyAAGkyU",
        "outputId": "c3c70685-b628-40d5-e3f0-bb0c8176b63f"
      },
      "execution_count": null,
      "outputs": [
        {
          "output_type": "stream",
          "name": "stdout",
          "text": [
            "Enter a number: 5\n",
            "5 X 1 = 5\n",
            "5 X 2 = 10\n",
            "5 X 3 = 15\n",
            "5 X 4 = 20\n",
            "5 X 5 = 25\n",
            "5 X 6 = 30\n",
            "5 X 7 = 35\n",
            "5 X 8 = 40\n",
            "5 X 9 = 45\n",
            "5 X 10 = 50\n"
          ]
        }
      ]
    },
    {
      "cell_type": "code",
      "source": [
        "n = int(input(\"Enter a number: \"))\n",
        "\n",
        "for i in range(2, n):\n",
        "    if(n%i) == 0:\n",
        "        print(\"NUMBER IS NOT PRIME\")\n",
        "        break\n",
        "else:\n",
        "    print(\"NUMBER IS PRIME\")"
      ],
      "metadata": {
        "colab": {
          "base_uri": "https://localhost:8080/"
        },
        "id": "r2jGExzFPEHf",
        "outputId": "220187dd-2833-424e-a73f-ebad475e26ee"
      },
      "execution_count": null,
      "outputs": [
        {
          "output_type": "stream",
          "name": "stdout",
          "text": [
            "Enter a number: 4\n",
            "NUUMBER IS NOT PRIME\n"
          ]
        }
      ]
    },
    {
      "cell_type": "code",
      "source": [
        "n = int(input(\"Enter a number: \"))\n",
        "i = 1\n",
        "sum = 0\n",
        "while(i<n):\n",
        "    sum += i\n",
        "    i+=1\n",
        "\n",
        "print(sum)"
      ],
      "metadata": {
        "id": "4MVCrKS3B-9w",
        "colab": {
          "base_uri": "https://localhost:8080/"
        },
        "outputId": "4e1c4c9c-c764-4a6f-e186-0ac2996e4501"
      },
      "execution_count": 5,
      "outputs": [
        {
          "output_type": "stream",
          "name": "stdout",
          "text": [
            "Enter a number: 5\n",
            "10\n"
          ]
        }
      ]
    },
    {
      "cell_type": "code",
      "source": [
        "n = int(input(\"Enter a number: \"))\n",
        "\n",
        "product = 1\n",
        "for i in range(1, n+1):\n",
        "    product = product * i\n",
        "\n",
        "print(f\"THE FACTORIAL OF {n} is {product}\")\n"
      ],
      "metadata": {
        "colab": {
          "base_uri": "https://localhost:8080/"
        },
        "id": "RmnqQfAi6841",
        "outputId": "461eb9f5-81a1-4988-9f3a-23b96bf8786e"
      },
      "execution_count": 8,
      "outputs": [
        {
          "output_type": "stream",
          "name": "stdout",
          "text": [
            "Enter a number: 7\n",
            "THE FACTORIAL OF 7 is 5040\n"
          ]
        }
      ]
    },
    {
      "cell_type": "code",
      "source": [
        "'''\n",
        "For n = 3\n",
        "  *\n",
        " ***\n",
        "*****\n",
        "\n",
        "For n = 5\n",
        "    *\n",
        "   ***\n",
        "  *****\n",
        " ********\n",
        "**********\n",
        "\n",
        "'''\n",
        "\n",
        "n = int(input(\"Enter the number: \"))\n",
        "for i in range(1, n+1):\n",
        "    print(\" \"* (n-i), end=\"\")\n",
        "    print(\"*\"* (2*i-1), end=\"\")\n",
        "    print(\"\")"
      ],
      "metadata": {
        "colab": {
          "base_uri": "https://localhost:8080/"
        },
        "id": "BbkzVtkjCW1p",
        "outputId": "c827ed6d-d497-4136-9b05-f25a3c452cb7"
      },
      "execution_count": 10,
      "outputs": [
        {
          "output_type": "stream",
          "name": "stdout",
          "text": [
            "Enter the number: 7\n",
            "      *\n",
            "     ***\n",
            "    *****\n",
            "   *******\n",
            "  *********\n",
            " ***********\n",
            "*************\n"
          ]
        }
      ]
    },
    {
      "cell_type": "code",
      "source": [
        "n = int(input(\"Enter the number: \"))\n",
        "\n",
        "\n",
        "for i in range(1, n+1):\n",
        "    print(\"\"* (n-i), end=\"\")\n",
        "    print(\"*\"* (2*i-1), end=\"\")\n",
        "    print(\"\")"
      ],
      "metadata": {
        "colab": {
          "base_uri": "https://localhost:8080/"
        },
        "id": "ayBrDytJDOKW",
        "outputId": "8d92e64b-0783-480d-aac2-8fed62cb52c5"
      },
      "execution_count": 12,
      "outputs": [
        {
          "output_type": "stream",
          "name": "stdout",
          "text": [
            "Enter the number: 5\n",
            "*\n",
            "***\n",
            "*****\n",
            "*******\n",
            "*********\n"
          ]
        }
      ]
    },
    {
      "cell_type": "code",
      "source": [
        "'''\n",
        "\n",
        "***\n",
        "* *       for n = 3\n",
        "***\n",
        "\n",
        "\n",
        "'''\n",
        "n = int(input(\"Enter the number: \"))\n",
        "\n",
        "\n",
        "for i in range(1, n+1):\n",
        "    if(i==1 or i==n):\n",
        "        print(\"*\"* n, end=\"\")\n",
        "    else:\n",
        "        print(\"*\", end=\"\")\n",
        "        print(\" \"* (n-2), end=\"\")\n",
        "        print(\"*\", end=\"\")\n",
        "    print(\"\")"
      ],
      "metadata": {
        "colab": {
          "base_uri": "https://localhost:8080/"
        },
        "id": "z4-Y6BfaDzfX",
        "outputId": "10e38963-9f08-4ad9-d862-364e8e815988"
      },
      "execution_count": 14,
      "outputs": [
        {
          "output_type": "stream",
          "name": "stdout",
          "text": [
            "Enter the number: 3\n",
            "***\n",
            "* *\n",
            "***\n"
          ]
        }
      ]
    }
  ]
}