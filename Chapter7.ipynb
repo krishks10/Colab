{
  "nbformat": 4,
  "nbformat_minor": 0,
  "metadata": {
    "colab": {
      "provenance": [],
      "authorship_tag": "ABX9TyNoUInqZKxaHN8g9JW1j9my",
      "include_colab_link": true
    },
    "kernelspec": {
      "name": "python3",
      "display_name": "Python 3"
    },
    "language_info": {
      "name": "python"
    }
  },
  "cells": [
    {
      "cell_type": "markdown",
      "metadata": {
        "id": "view-in-github",
        "colab_type": "text"
      },
      "source": [
        "<a href=\"https://colab.research.google.com/github/krishks10/Colab/blob/main/Chapter7.ipynb\" target=\"_parent\"><img src=\"https://colab.research.google.com/assets/colab-badge.svg\" alt=\"Open In Colab\"/></a>"
      ]
    },
    {
      "cell_type": "code",
      "execution_count": null,
      "metadata": {
        "colab": {
          "base_uri": "https://localhost:8080/"
        },
        "id": "Hq7wMsqQuvBk",
        "outputId": "e22aae85-d6b8-48b5-9bee-f533db0790c8"
      },
      "outputs": [
        {
          "output_type": "stream",
          "name": "stdout",
          "text": [
            "Krish\n",
            "Krish\n",
            "Krish\n",
            "Krish\n",
            "Krish\n"
          ]
        }
      ],
      "source": [
        "i = 0\n",
        "while i<5:\n",
        "  print(\"Krish\")\n",
        "  i = i+1 #print 5 times"
      ]
    },
    {
      "cell_type": "code",
      "source": [
        "username = input(\"Enter Your ID: \")\n",
        "i = 0\n",
        "while i<2:\n",
        "  print(username)\n",
        "  i = i+1"
      ],
      "metadata": {
        "colab": {
          "base_uri": "https://localhost:8080/"
        },
        "id": "8gPvT-c-0mkB",
        "outputId": "dc8b11f1-0400-41f4-f9ec-211d4d542e6b"
      },
      "execution_count": null,
      "outputs": [
        {
          "output_type": "stream",
          "name": "stdout",
          "text": [
            "Enter Your ID: yash\n",
            "yash\n",
            "yash\n"
          ]
        }
      ]
    },
    {
      "cell_type": "code",
      "source": [
        "l = [1, 7, 8]\n",
        "for item in l:\n",
        "  print(item)"
      ],
      "metadata": {
        "colab": {
          "base_uri": "https://localhost:8080/"
        },
        "id": "BCz7p8gY9lUP",
        "outputId": "c75706ff-c2cb-4a7a-ac8a-7daf64eb03b1"
      },
      "execution_count": null,
      "outputs": [
        {
          "output_type": "stream",
          "name": "stdout",
          "text": [
            "1\n",
            "7\n",
            "8\n"
          ]
        }
      ]
    },
    {
      "cell_type": "code",
      "source": [
        "print(1)\n",
        "print(2)\n",
        "print(3)\n",
        "print(4)\n",
        "print(5)\n",
        "\n",
        "#The same task can be done like this\n",
        "for i in range(1, 6):\n",
        "    print(i)"
      ],
      "metadata": {
        "colab": {
          "base_uri": "https://localhost:8080/"
        },
        "id": "ZfJb1nTv9t3d",
        "outputId": "f836db4f-bf25-4850-9fe1-9496aef588b4"
      },
      "execution_count": null,
      "outputs": [
        {
          "output_type": "stream",
          "name": "stdout",
          "text": [
            "1\n",
            "2\n",
            "3\n",
            "4\n",
            "5\n",
            "1\n",
            "2\n",
            "3\n",
            "4\n",
            "5\n"
          ]
        }
      ]
    },
    {
      "cell_type": "code",
      "source": [
        "i = 1\n",
        "\n",
        "while(i<6):\n",
        "    print(i)\n",
        "    i +=1\n",
        "\n",
        "\n",
        "'''\n",
        "Output:\n",
        "1\n",
        "2\n",
        "3\n",
        "4\n",
        "5\n",
        "'''"
      ],
      "metadata": {
        "colab": {
          "base_uri": "https://localhost:8080/"
        },
        "id": "4LZaCrf_s3QC",
        "outputId": "4b5f6339-bbdd-4c57-af47-43534a78a3e3"
      },
      "execution_count": null,
      "outputs": [
        {
          "output_type": "stream",
          "name": "stdout",
          "text": [
            "1\n",
            "2\n",
            "3\n",
            "4\n",
            "5\n"
          ]
        }
      ]
    },
    {
      "cell_type": "code",
      "source": [
        "l = [1, \"krish\", False, \"This\", \"Shubham\"]\n",
        "\n",
        "i = 0\n",
        "\n",
        "while(i<len(l)):\n",
        "    print(l[i])\n",
        "    i +=1"
      ],
      "metadata": {
        "colab": {
          "base_uri": "https://localhost:8080/"
        },
        "id": "yhD90e4PyW1s",
        "outputId": "c61bdfda-2f23-4d93-a593-5d9b25110867"
      },
      "execution_count": null,
      "outputs": [
        {
          "output_type": "stream",
          "name": "stdout",
          "text": [
            "1\n",
            "krish\n",
            "False\n",
            "This\n",
            "Shubham\n"
          ]
        }
      ]
    },
    {
      "cell_type": "code",
      "source": [
        "for i in range(0, 7):\n",
        "    print(i)"
      ],
      "metadata": {
        "colab": {
          "base_uri": "https://localhost:8080/"
        },
        "id": "vut_Zt9yKdA3",
        "outputId": "a6b16868-439d-4ba4-b1c4-dda1b016b86d"
      },
      "execution_count": 4,
      "outputs": [
        {
          "output_type": "stream",
          "name": "stdout",
          "text": [
            "0\n",
            "1\n",
            "2\n",
            "3\n",
            "4\n",
            "5\n",
            "6\n"
          ]
        }
      ]
    },
    {
      "cell_type": "code",
      "source": [
        "for i in range(0, 80):\n",
        "  print(i)\n",
        "  if i==8:\n",
        "    break\n"
      ],
      "metadata": {
        "colab": {
          "base_uri": "https://localhost:8080/"
        },
        "id": "aBuyOE2jKk_b",
        "outputId": "582e883b-b97b-4f96-d8f4-6e9aeb208580"
      },
      "execution_count": 9,
      "outputs": [
        {
          "output_type": "stream",
          "name": "stdout",
          "text": [
            "0\n",
            "1\n",
            "2\n",
            "3\n",
            "4\n",
            "5\n",
            "6\n",
            "7\n",
            "8\n"
          ]
        }
      ]
    },
    {
      "cell_type": "code",
      "source": [
        "for i in range(4):\n",
        "    print(\"printing\")\n",
        "    if i==2:\n",
        "      continue\n",
        "    print(i)"
      ],
      "metadata": {
        "colab": {
          "base_uri": "https://localhost:8080/"
        },
        "id": "PpdAyg2bLVm4",
        "outputId": "a683fe82-9b39-41dd-db18-2dadce07881d"
      },
      "execution_count": 10,
      "outputs": [
        {
          "output_type": "stream",
          "name": "stdout",
          "text": [
            "printing\n",
            "0\n",
            "printing\n",
            "1\n",
            "printing\n",
            "printing\n",
            "3\n"
          ]
        }
      ]
    },
    {
      "cell_type": "code",
      "source": [
        "i = [1, 5, 7]\n",
        "for item in i:\n",
        "    pass"
      ],
      "metadata": {
        "id": "8hcg1TOsLuHG"
      },
      "execution_count": 12,
      "outputs": []
    }
  ]
}