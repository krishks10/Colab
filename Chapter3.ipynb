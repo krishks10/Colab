{
  "nbformat": 4,
  "nbformat_minor": 0,
  "metadata": {
    "colab": {
      "provenance": [],
      "authorship_tag": "ABX9TyMEIRZ2boWWk9fjFwkKNbsL",
      "include_colab_link": true
    },
    "kernelspec": {
      "name": "python3",
      "display_name": "Python 3"
    },
    "language_info": {
      "name": "python"
    }
  },
  "cells": [
    {
      "cell_type": "markdown",
      "metadata": {
        "id": "view-in-github",
        "colab_type": "text"
      },
      "source": [
        "<a href=\"https://colab.research.google.com/github/krishks10/Colab/blob/main/Chapter3.ipynb\" target=\"_parent\"><img src=\"https://colab.research.google.com/assets/colab-badge.svg\" alt=\"Open In Colab\"/></a>"
      ]
    },
    {
      "cell_type": "markdown",
      "source": [
        "into string"
      ],
      "metadata": {
        "id": "ms7JSfNwDXSp"
      }
    },
    {
      "cell_type": "code",
      "execution_count": null,
      "metadata": {
        "id": "J9-yFeHODS3T"
      },
      "outputs": [],
      "source": [
        "a = 'krish'\n",
        "b = \"krish\"\n",
        "c = '''krish'''"
      ]
    },
    {
      "cell_type": "code",
      "source": [
        "name = input(\"enter your name: \")\n",
        "print(name)"
      ],
      "metadata": {
        "colab": {
          "base_uri": "https://localhost:8080/"
        },
        "id": "dmFxpR7DRh1A",
        "outputId": "dd7f8cc7-fb0f-40ac-dfaa-077890fdc1e2"
      },
      "execution_count": null,
      "outputs": [
        {
          "output_type": "stream",
          "name": "stdout",
          "text": [
            "enter your name: Krish Srivastav\n",
            "Krish Srivastav\n"
          ]
        }
      ]
    },
    {
      "cell_type": "code",
      "source": [
        "name = \"Krish\"\n",
        "\n",
        "nameshort = name[0:4]\n",
        "print(nameshort)\n",
        "character1 = name[1]\n",
        "print(character1)"
      ],
      "metadata": {
        "colab": {
          "base_uri": "https://localhost:8080/"
        },
        "id": "BHbDCMxQRukW",
        "outputId": "23244bc4-5524-49e0-be89-449ae728c2f5"
      },
      "execution_count": null,
      "outputs": [
        {
          "output_type": "stream",
          "name": "stdout",
          "text": [
            "Kris\n",
            "r\n"
          ]
        }
      ]
    },
    {
      "cell_type": "markdown",
      "source": [
        "negative slicing"
      ],
      "metadata": {
        "id": "nDz_La93aEmL"
      }
    },
    {
      "cell_type": "code",
      "source": [
        "name = \"Krish\"\n",
        "\n",
        "print(name[0:3])\n",
        "\n",
        "print(name[-4:-1])\n",
        "print(name[1:4])\n",
        "\n",
        "print(name[:4]) #is same as print(name[0:4])\n",
        "print(name[0:]) #is same as print (name[1:5])"
      ],
      "metadata": {
        "colab": {
          "base_uri": "https://localhost:8080/"
        },
        "id": "s7HG2DNwaHBU",
        "outputId": "45d4fa31-e61c-47cf-fa9d-75ad3c9014be"
      },
      "execution_count": null,
      "outputs": [
        {
          "output_type": "stream",
          "name": "stdout",
          "text": [
            "Kri\n",
            "ris\n",
            "ris\n",
            "Kris\n",
            "Krish\n"
          ]
        }
      ]
    },
    {
      "cell_type": "code",
      "source": [
        "word = \"amazing\"\n",
        "\n",
        "word [:7]\n",
        "word [1:6:2]"
      ],
      "metadata": {
        "colab": {
          "base_uri": "https://localhost:8080/",
          "height": 35
        },
        "id": "Ia6piOtjNGaw",
        "outputId": "77c6e10d-4952-49c4-803c-ad007c035a4c"
      },
      "execution_count": 7,
      "outputs": [
        {
          "output_type": "execute_result",
          "data": {
            "text/plain": [
              "'mzn'"
            ],
            "application/vnd.google.colaboratory.intrinsic+json": {
              "type": "string"
            }
          },
          "metadata": {},
          "execution_count": 7
        }
      ]
    },
    {
      "cell_type": "code",
      "source": [
        "a = \"abcdefghijklmnopqrstuvwxyz\"\n",
        "\n",
        "a[3:7:9]"
      ],
      "metadata": {
        "colab": {
          "base_uri": "https://localhost:8080/",
          "height": 35
        },
        "id": "uEPd2SxJNeIW",
        "outputId": "60415083-8efe-41c1-db16-17febb23048c"
      },
      "execution_count": 6,
      "outputs": [
        {
          "output_type": "execute_result",
          "data": {
            "text/plain": [
              "'d'"
            ],
            "application/vnd.google.colaboratory.intrinsic+json": {
              "type": "string"
            }
          },
          "metadata": {},
          "execution_count": 6
        }
      ]
    },
    {
      "cell_type": "markdown",
      "source": [
        "string function"
      ],
      "metadata": {
        "id": "J5z5IEJxODBF"
      }
    },
    {
      "cell_type": "code",
      "source": [
        "name = \"Krish\"\n",
        "\n",
        "print(len(name))\n",
        "print(len(\"ish\"))\n",
        "print(name.endswith(\"rish\"))\n",
        "print(name.startswith(\"R\"))\n",
        "print(name.capitalize())\n",
        "print(name.count(\"r\"))\n",
        "print(name.find(word))"
      ],
      "metadata": {
        "colab": {
          "base_uri": "https://localhost:8080/"
        },
        "id": "m27a7aacN-rd",
        "outputId": "760508af-96b0-46b9-b71e-4aecefecd71a"
      },
      "execution_count": 21,
      "outputs": [
        {
          "output_type": "stream",
          "name": "stdout",
          "text": [
            "5\n",
            "3\n",
            "True\n",
            "False\n",
            "Krish\n",
            "1\n",
            "-1\n"
          ]
        }
      ]
    }
  ]
}