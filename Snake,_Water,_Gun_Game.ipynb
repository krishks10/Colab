{
  "nbformat": 4,
  "nbformat_minor": 0,
  "metadata": {
    "colab": {
      "provenance": [],
      "authorship_tag": "ABX9TyOSftYoaJmH5rEZkKNJd2h5",
      "include_colab_link": true
    },
    "kernelspec": {
      "name": "python3",
      "display_name": "Python 3"
    },
    "language_info": {
      "name": "python"
    }
  },
  "cells": [
    {
      "cell_type": "markdown",
      "metadata": {
        "id": "view-in-github",
        "colab_type": "text"
      },
      "source": [
        "<a href=\"https://colab.research.google.com/github/krishks10/Colab/blob/main/Snake%2C_Water%2C_Gun_Game.ipynb\" target=\"_parent\"><img src=\"https://colab.research.google.com/assets/colab-badge.svg\" alt=\"Open In Colab\"/></a>"
      ]
    },
    {
      "cell_type": "code",
      "execution_count": 10,
      "metadata": {
        "colab": {
          "base_uri": "https://localhost:8080/"
        },
        "id": "e9dA6TlRIWwl",
        "outputId": "7baaf01a-a133-4398-cfc6-dcad73c81a82"
      },
      "outputs": [
        {
          "output_type": "stream",
          "name": "stdout",
          "text": [
            "Enter your choice: s\n",
            "Computer chose snake\n",
            "You chose snake\n",
            "Draw\n"
          ]
        }
      ],
      "source": [
        "import random\n",
        "\n",
        "'''\n",
        "1 for snake\n",
        "-1 for water\n",
        "0 for gun\n",
        "'''\n",
        "computer = random.choice([-1, 0, 1])\n",
        "youstr = input(\"Enter your choice: \")\n",
        "youDict = {\"s\" : 1, \"w\" : -1, \"g\" : 0}\n",
        "reverseDict = {1 : \"snake\", -1 : \"water\", 0 : \"gun\"}\n",
        "\n",
        "you = youDict[youstr]\n",
        "\n",
        "print(f\"Computer chose {reverseDict[computer]}\")\n",
        "print(f\"You chose {reverseDict[you]}\")\n",
        "\n",
        "if(computer ==-1 and you ==1):\n",
        "    print(\"You win!\")\n",
        "\n",
        "elif(computer ==-1 and you ==0):\n",
        "    print(\"You lose!\")\n",
        "\n",
        "if(computer ==1 and you ==-1):\n",
        "    print(\"You lose!\")\n",
        "\n",
        "elif(computer ==1 and you ==0):\n",
        "    print(\"You win!\")\n",
        "\n",
        "if(computer ==0 and you ==-1):\n",
        "    print(\"You win!\")\n",
        "\n",
        "elif(computer ==0 and you ==1):\n",
        "    print(\"You lose!\")\n",
        "\n",
        "else:\n",
        "    print(\"Draw\")"
      ]
    },
    {
      "cell_type": "code",
      "source": [],
      "metadata": {
        "id": "CzUgj_YhPVHB"
      },
      "execution_count": null,
      "outputs": []
    }
  ]
}