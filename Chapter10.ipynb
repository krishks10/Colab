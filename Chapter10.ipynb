{
  "nbformat": 4,
  "nbformat_minor": 0,
  "metadata": {
    "colab": {
      "provenance": [],
      "authorship_tag": "ABX9TyNzqgmPkGn17PKiLlCYOtEq",
      "include_colab_link": true
    },
    "kernelspec": {
      "name": "python3",
      "display_name": "Python 3"
    },
    "language_info": {
      "name": "python"
    }
  },
  "cells": [
    {
      "cell_type": "markdown",
      "metadata": {
        "id": "view-in-github",
        "colab_type": "text"
      },
      "source": [
        "<a href=\"https://colab.research.google.com/github/krishks10/Colab/blob/main/Chapter10.ipynb\" target=\"_parent\"><img src=\"https://colab.research.google.com/assets/colab-badge.svg\" alt=\"Open In Colab\"/></a>"
      ]
    },
    {
      "cell_type": "code",
      "source": [
        "class Emplopyee:\n",
        "    name = \"Krish\"\n",
        "    language = \"Py\"\n",
        "    salary = 120000\n",
        "\n",
        "Krish = Emplopyee()\n",
        "print(Krish.name)\n",
        "print(Krish.language)\n",
        "print(Krish.salary)\n"
      ],
      "metadata": {
        "id": "-_R61le71ZaP",
        "colab": {
          "base_uri": "https://localhost:8080/"
        },
        "outputId": "794aa6cf-f678-47d9-c95f-6c73d76affd7"
      },
      "execution_count": 1,
      "outputs": [
        {
          "output_type": "stream",
          "name": "stdout",
          "text": [
            "Krish\n",
            "Py\n",
            "120000\n"
          ]
        }
      ]
    },
    {
      "cell_type": "code",
      "source": [
        "class Emplopyee:\n",
        "    company = \"GOOGLE\"\n",
        "\n",
        "krish = Emplopyee()\n",
        "Emplopyee.company = \"Youtube\"\n",
        "print(krish.company)"
      ],
      "metadata": {
        "colab": {
          "base_uri": "https://localhost:8080/"
        },
        "id": "EdnkVzH2e7UB",
        "outputId": "44a5793f-d564-4456-8a24-b2d177e3dae9"
      },
      "execution_count": 9,
      "outputs": [
        {
          "output_type": "stream",
          "name": "stdout",
          "text": [
            "Youtube\n"
          ]
        }
      ]
    },
    {
      "cell_type": "code",
      "source": [
        "class Employee:\n",
        "    language = \"Py\" # This is a class attribute\n",
        "    salary = 1200000\n",
        "\n",
        "\n",
        "harry = Employee()\n",
        "harry.name = \"Harry\" # This is an instance attribute\n",
        "print(harry.name, harry.language, harry.salary)\n",
        "\n",
        "rohan = Employee()\n",
        "rohan.name = \"Rohan Roro Robinson\"\n",
        "print(rohan.name, rohan.salary, rohan.language)\n",
        "\n",
        "# Here name is instance attribute and salary and language are class attributes as they directly belong to the class\n",
        "\n"
      ],
      "metadata": {
        "colab": {
          "base_uri": "https://localhost:8080/"
        },
        "id": "h7qq8ygXg0zR",
        "outputId": "0c2e00e7-7e61-4c04-9a4f-3e6f84e35224"
      },
      "execution_count": 10,
      "outputs": [
        {
          "output_type": "stream",
          "name": "stdout",
          "text": [
            "Harry Py 1200000\n",
            "Rohan Roro Robinson 1200000 Py\n"
          ]
        }
      ]
    },
    {
      "cell_type": "code",
      "source": [
        "class Employee:\n",
        "    language = \"Py\" # This is a class attribute\n",
        "    salary = 1200000\n",
        "\n",
        "\n",
        "harry = Employee()\n",
        "harry.language = \"Java\" # This is an instance attribute\n",
        "print(harry.language, harry.salary)\n"
      ],
      "metadata": {
        "colab": {
          "base_uri": "https://localhost:8080/"
        },
        "id": "zCLqD7B9hhtg",
        "outputId": "789e4f3c-d470-4bf9-f60c-0e99210e6ce6"
      },
      "execution_count": 24,
      "outputs": [
        {
          "output_type": "stream",
          "name": "stdout",
          "text": [
            "Java 1200000\n"
          ]
        }
      ]
    },
    {
      "cell_type": "code",
      "source": [
        "class Employee:\n",
        "    language = \"Python\" # This is a class attribute\n",
        "    salary = 1200000\n",
        "\n",
        "    def getInfo(self):\n",
        "        print(f\"The language is {self.language}\")\n",
        "        print(f\"The salary is {self.salary}\")\n",
        "\n",
        "    def greet(self):\n",
        "        print(\"Good morning\")\n",
        "\n",
        "harry = Employee()\n",
        "harry.language = \"Java\" # This is an instance attribute\n",
        "harry.greet()\n",
        "harry.getInfo()"
      ],
      "metadata": {
        "colab": {
          "base_uri": "https://localhost:8080/"
        },
        "id": "Y7XZnUk6h8Jn",
        "outputId": "407f0434-ca9d-4ee8-db37-af872c42bda4"
      },
      "execution_count": 27,
      "outputs": [
        {
          "output_type": "stream",
          "name": "stdout",
          "text": [
            "Good morning\n",
            "The language is Java\n",
            "The salary is 1200000\n"
          ]
        }
      ]
    },
    {
      "cell_type": "code",
      "source": [
        "class Employee:\n",
        "    language = \"Python\" # This is a class attribute\n",
        "    salary = 1200000\n",
        "\n",
        "    def getInfo(self):\n",
        "        print(f\"The language is {self.language}\")\n",
        "        print(f\"The salary is {self.salary}\")\n",
        "\n",
        "    @staticmethod\n",
        "    def greet():\n",
        "        print(\"Good morning\")\n",
        "\n",
        "harry = Employee()\n",
        "harry.language = \"Java\" # This is an instance attribute\n",
        "harry.greet()\n",
        "harry.getInfo()"
      ],
      "metadata": {
        "colab": {
          "base_uri": "https://localhost:8080/"
        },
        "id": "_Fezoh7DkUb_",
        "outputId": "70b811ae-b87c-4e1e-fdee-dd5694c5ef5e"
      },
      "execution_count": 30,
      "outputs": [
        {
          "output_type": "stream",
          "name": "stdout",
          "text": [
            "Good morning\n",
            "The language is Java\n",
            "The salary is 1200000\n"
          ]
        }
      ]
    }
  ]
}