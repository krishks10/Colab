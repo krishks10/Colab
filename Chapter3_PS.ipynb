{
  "nbformat": 4,
  "nbformat_minor": 0,
  "metadata": {
    "colab": {
      "provenance": [],
      "authorship_tag": "ABX9TyNLyShQe3kBrjD5S5uJr0gp",
      "include_colab_link": true
    },
    "kernelspec": {
      "name": "python3",
      "display_name": "Python 3"
    },
    "language_info": {
      "name": "python"
    }
  },
  "cells": [
    {
      "cell_type": "markdown",
      "metadata": {
        "id": "view-in-github",
        "colab_type": "text"
      },
      "source": [
        "<a href=\"https://colab.research.google.com/github/krishks10/Colab/blob/main/Chapter3_PS.ipynb\" target=\"_parent\"><img src=\"https://colab.research.google.com/assets/colab-badge.svg\" alt=\"Open In Colab\"/></a>"
      ]
    },
    {
      "cell_type": "markdown",
      "source": [
        "problem 1\n"
      ],
      "metadata": {
        "id": "aeoJFeYHR3fj"
      }
    },
    {
      "cell_type": "code",
      "execution_count": 2,
      "metadata": {
        "colab": {
          "base_uri": "https://localhost:8080/"
        },
        "id": "YVGFZWfJP11Q",
        "outputId": "75699567-8795-4933-952e-7c2ea65a642c"
      },
      "outputs": [
        {
          "output_type": "stream",
          "name": "stdout",
          "text": [
            "Enter your name: YASH\n",
            "Good Morning, YASH \n"
          ]
        }
      ],
      "source": [
        "name =input(\"Enter your name: \")\n",
        "\n",
        "print(f\"Good Morning, {name} \")"
      ]
    },
    {
      "cell_type": "markdown",
      "source": [
        "Problem 2"
      ],
      "metadata": {
        "id": "ggo-He1OR61h"
      }
    },
    {
      "cell_type": "code",
      "source": [
        "letter = '''Dear <|Name|>,\n",
        "You are selected!\n",
        "<|Date|>'''\n",
        "\n",
        "print(letter.replace(\"<|name|>\", \"Krish\").replace(\"<|Date|>\", \"25.06.2023\"))"
      ],
      "metadata": {
        "colab": {
          "base_uri": "https://localhost:8080/"
        },
        "id": "US0rEqEwR6OZ",
        "outputId": "f270076c-f6e1-4514-c875-f12af28cfaec"
      },
      "execution_count": 9,
      "outputs": [
        {
          "output_type": "stream",
          "name": "stdout",
          "text": [
            "Dear <|Name|>,\n",
            "You are selected!\n",
            "25.06.2023\n"
          ]
        }
      ]
    },
    {
      "cell_type": "markdown",
      "source": [
        "problem 3"
      ],
      "metadata": {
        "id": "0TowROjoVw5n"
      }
    },
    {
      "cell_type": "code",
      "source": [
        "name = \"Yash is poplu boy and \"\n",
        "\n",
        "print(name.find(\" \"))"
      ],
      "metadata": {
        "colab": {
          "base_uri": "https://localhost:8080/"
        },
        "id": "dbyjqjFhVyY3",
        "outputId": "e979a5e6-70c6-4b76-d717-e8f9bc8857b8"
      },
      "execution_count": 10,
      "outputs": [
        {
          "output_type": "stream",
          "name": "stdout",
          "text": [
            "4\n"
          ]
        }
      ]
    },
    {
      "cell_type": "markdown",
      "source": [
        "problem 4"
      ],
      "metadata": {
        "id": "G0uPJYIxWGek"
      }
    },
    {
      "cell_type": "code",
      "source": [
        "name = \"Harry is a good boy and  \"\n",
        "\n",
        "print(name.replace(\" good \", \" bad \"))"
      ],
      "metadata": {
        "colab": {
          "base_uri": "https://localhost:8080/"
        },
        "id": "E5RyEv2eWIME",
        "outputId": "e4e12c78-eb5d-4469-d8ba-385859ad3656"
      },
      "execution_count": 16,
      "outputs": [
        {
          "output_type": "stream",
          "name": "stdout",
          "text": [
            "Harry is a bad boy and  \n"
          ]
        }
      ]
    },
    {
      "cell_type": "markdown",
      "source": [
        "problem 5"
      ],
      "metadata": {
        "id": "jg8sJExIWkSr"
      }
    },
    {
      "cell_type": "code",
      "source": [
        "letter = \"Dear Krish,\\nThis python course is nice.\\nThanks!\"\n",
        "\n",
        "print(letter)"
      ],
      "metadata": {
        "colab": {
          "base_uri": "https://localhost:8080/"
        },
        "id": "RbDZZTgEWjqs",
        "outputId": "140276a7-ce64-438c-85e0-fa7da309600d"
      },
      "execution_count": 18,
      "outputs": [
        {
          "output_type": "stream",
          "name": "stdout",
          "text": [
            "Dear Krish,\n",
            "This python course is nice.\n",
            "Thanks!\n"
          ]
        }
      ]
    }
  ]
}