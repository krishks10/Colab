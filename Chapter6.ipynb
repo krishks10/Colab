{
  "nbformat": 4,
  "nbformat_minor": 0,
  "metadata": {
    "colab": {
      "provenance": [],
      "authorship_tag": "ABX9TyNrXsfptQVZpx+xerRd9WJl",
      "include_colab_link": true
    },
    "kernelspec": {
      "name": "python3",
      "display_name": "Python 3"
    },
    "language_info": {
      "name": "python"
    }
  },
  "cells": [
    {
      "cell_type": "markdown",
      "metadata": {
        "id": "view-in-github",
        "colab_type": "text"
      },
      "source": [
        "<a href=\"https://colab.research.google.com/github/krishks10/Colab/blob/main/Chapter6.ipynb\" target=\"_parent\"><img src=\"https://colab.research.google.com/assets/colab-badge.svg\" alt=\"Open In Colab\"/></a>"
      ]
    },
    {
      "cell_type": "code",
      "execution_count": null,
      "metadata": {
        "colab": {
          "base_uri": "https://localhost:8080/"
        },
        "id": "k24_IiD3iprD",
        "outputId": "a956cc35-34c6-4f5c-a7e8-11709c79d685"
      },
      "outputs": [
        {
          "output_type": "stream",
          "name": "stdout",
          "text": [
            "Enter your age: 5\n",
            "You are below the age of consent\n"
          ]
        }
      ],
      "source": [
        "a = int(input(\"Enter your age: \"))\n",
        "\n",
        "if(a>=18):\n",
        "  print(\"You are above age of consent\")\n",
        "  print(\"Good for you\")\n",
        "\n",
        "else:\n",
        "  print(\"You are below the age of consent\")"
      ]
    },
    {
      "cell_type": "code",
      "source": [
        "a >= 18\n",
        "\n",
        "if(a>18):\n",
        "  print(\"You are above age of consent\")\n",
        "  print(\"Good for you\")\n",
        "\n",
        "else:\n",
        "  print(\"You are below the age of consent\")"
      ],
      "metadata": {
        "colab": {
          "base_uri": "https://localhost:8080/"
        },
        "id": "jtVVmGHlmdeb",
        "outputId": "203b116e-e2b1-434a-deef-6f38df3931d6"
      },
      "execution_count": null,
      "outputs": [
        {
          "output_type": "stream",
          "name": "stdout",
          "text": [
            "You are below the age of consent\n"
          ]
        }
      ]
    },
    {
      "cell_type": "code",
      "source": [
        "a = int(input(\"Enter your age: \"))\n",
        "\n",
        "#if elif else ladder\n",
        "if(a>=18):\n",
        "    print(\"You are above the age of consent\")\n",
        "    print(\"Good for you\")\n",
        "\n",
        "elif(a<0):\n",
        "    print(\"You are entering an invalid negative age\")\n",
        "\n",
        "elif(a==0):\n",
        "    print(\"You are entering 0 which is not a valid age\")\n",
        "\n",
        "else:\n",
        "    print(\"You are below the age of consent\")\n",
        "\n",
        "\n",
        "print(\"End of Program\")"
      ],
      "metadata": {
        "id": "1sqBsAVHeM1q",
        "colab": {
          "base_uri": "https://localhost:8080/"
        },
        "outputId": "17c18b0c-49da-4e6d-e906-78659285923a"
      },
      "execution_count": null,
      "outputs": [
        {
          "output_type": "stream",
          "name": "stdout",
          "text": [
            "Enter your age: -1\n",
            "You are entering an invalid negative age\n",
            "End of Program\n"
          ]
        }
      ]
    },
    {
      "cell_type": "code",
      "source": [
        "a = int(input(\"Enter your age: \"))\n",
        "\n",
        "# If statement no: 1\n",
        "if(a%2 == 0):\n",
        "    print(\"a is even\")\n",
        "# End of If statement no: 1\n",
        "\n",
        "# If statement no: 2\n",
        "if(a>=18):\n",
        "    print(\"You are above the age of consent\")\n",
        "    print(\"Good for you\")\n",
        "\n",
        "elif(a<0):\n",
        "    print(\"You are entering an invalid negative age\")\n",
        "\n",
        "else:\n",
        "    print(\"You are below the age of consent\")\n",
        "# End of If statement no: 2\n",
        "\n",
        "print(\"End of Program\")"
      ],
      "metadata": {
        "colab": {
          "base_uri": "https://localhost:8080/"
        },
        "id": "iQrsWfcJqQjg",
        "outputId": "4d7139b3-1549-4b05-886a-3a6a84685722"
      },
      "execution_count": null,
      "outputs": [
        {
          "output_type": "stream",
          "name": "stdout",
          "text": [
            "Enter your age: 4\n",
            "a is even\n",
            "You are below the age of consent\n",
            "End of Program\n"
          ]
        }
      ]
    },
    {
      "cell_type": "code",
      "source": [
        "a = int(input(\"Enter your age: \"))\n",
        "\n",
        "# If statement no: 1\n",
        "if(a%2 == 0):\n",
        "    print(\"a is even\")\n",
        "else:\n",
        "    print(\"a is odd\")"
      ],
      "metadata": {
        "colab": {
          "base_uri": "https://localhost:8080/"
        },
        "id": "N2qtj1CVshBH",
        "outputId": "3d2b2e3e-db84-42c0-bcb4-2e878d9b9f1f"
      },
      "execution_count": null,
      "outputs": [
        {
          "output_type": "stream",
          "name": "stdout",
          "text": [
            "Enter your age: 4\n",
            "a is even\n"
          ]
        }
      ]
    },
    {
      "cell_type": "code",
      "source": [],
      "metadata": {
        "id": "EQU_deI8s-GW"
      },
      "execution_count": null,
      "outputs": []
    }
  ]
}