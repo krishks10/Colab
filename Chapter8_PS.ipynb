{
  "nbformat": 4,
  "nbformat_minor": 0,
  "metadata": {
    "colab": {
      "provenance": [],
      "authorship_tag": "ABX9TyNGAAIjVQuFBM+Le1DssWQf",
      "include_colab_link": true
    },
    "kernelspec": {
      "name": "python3",
      "display_name": "Python 3"
    },
    "language_info": {
      "name": "python"
    }
  },
  "cells": [
    {
      "cell_type": "markdown",
      "metadata": {
        "id": "view-in-github",
        "colab_type": "text"
      },
      "source": [
        "<a href=\"https://colab.research.google.com/github/krishks10/Colab/blob/main/Chapter8_PS.ipynb\" target=\"_parent\"><img src=\"https://colab.research.google.com/assets/colab-badge.svg\" alt=\"Open In Colab\"/></a>"
      ]
    },
    {
      "cell_type": "code",
      "execution_count": null,
      "metadata": {
        "id": "unvMsmzvSvqB",
        "colab": {
          "base_uri": "https://localhost:8080/"
        },
        "outputId": "c404149f-6880-4f65-95f2-c08c5bfc3d23"
      },
      "outputs": [
        {
          "output_type": "stream",
          "name": "stdout",
          "text": [
            "3\n"
          ]
        }
      ],
      "source": [
        "a = 1\n",
        "b = 2\n",
        "c = 3\n",
        "\n",
        "\n",
        "def greatest(a, b, c):\n",
        "    if(a>b and a>c):\n",
        "        print(a)\n",
        "    elif(b>a and b>c):\n",
        "        print(b)\n",
        "    else:\n",
        "        print(c)\n",
        "\n",
        "greatest(a, b, c)"
      ]
    },
    {
      "cell_type": "code",
      "source": [
        "def greatest(a, b, c):\n",
        "    if(a>b and a>c):\n",
        "        return a\n",
        "    elif(b>a and b>c):\n",
        "        return b\n",
        "    else:\n",
        "        return c\n",
        "\n",
        "\n",
        "a = int(input(\"Enter first number: \"))\n",
        "b = int(input(\"Enter second number: \"))\n",
        "c = int(input(\"Enter third number: \"))\n",
        "\n",
        "print(greatest(a, b, c))"
      ],
      "metadata": {
        "colab": {
          "base_uri": "https://localhost:8080/"
        },
        "id": "8hMY9fYA-P3V",
        "outputId": "3479705d-92f8-484c-a4da-f212baf67779"
      },
      "execution_count": null,
      "outputs": [
        {
          "output_type": "stream",
          "name": "stdout",
          "text": [
            "Enter first number: 78\n",
            "Enter second number: 34\n",
            "Enter third number: 2\n",
            "78\n"
          ]
        }
      ]
    },
    {
      "cell_type": "code",
      "source": [
        "# c/5 =(f-32)/9\n",
        "\n",
        "\n",
        "f = int(input(\"Enter temperature in fahrenheit: \"))\n",
        "c = (f-32)*5/9\n",
        "print(c)"
      ],
      "metadata": {
        "colab": {
          "base_uri": "https://localhost:8080/"
        },
        "id": "pA6nf20D-qAy",
        "outputId": "e3429d5b-5ad3-49e1-fcf7-8781b6291b78"
      },
      "execution_count": null,
      "outputs": [
        {
          "output_type": "stream",
          "name": "stdout",
          "text": [
            "Enter temperature in fahrenheit: 89\n",
            "31.666666666666668\n"
          ]
        }
      ]
    },
    {
      "cell_type": "code",
      "source": [
        "def f_to_c(f):\n",
        "    c = (f-32)*5/9\n",
        "    return c\n",
        "\n",
        "f = int(input(\"Enter temperature in fahrenheit: \"))\n",
        "print(f_to_c(f))"
      ],
      "metadata": {
        "colab": {
          "base_uri": "https://localhost:8080/"
        },
        "id": "iswml0Jrg3FT",
        "outputId": "28f33ce2-8115-43bf-8ffc-72b15b8f8371"
      },
      "execution_count": null,
      "outputs": [
        {
          "output_type": "stream",
          "name": "stdout",
          "text": [
            "Enter temperature in fahrenheit: 45\n",
            "7.222222222222222\n"
          ]
        }
      ]
    },
    {
      "cell_type": "code",
      "source": [],
      "metadata": {
        "id": "6dFsJE8KgtO9"
      },
      "execution_count": null,
      "outputs": []
    }
  ]
}