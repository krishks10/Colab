{
  "nbformat": 4,
  "nbformat_minor": 0,
  "metadata": {
    "colab": {
      "provenance": [],
      "authorship_tag": "ABX9TyNqQGG46REI5Vjva0QQoe7z",
      "include_colab_link": true
    },
    "kernelspec": {
      "name": "python3",
      "display_name": "Python 3"
    },
    "language_info": {
      "name": "python"
    }
  },
  "cells": [
    {
      "cell_type": "markdown",
      "metadata": {
        "id": "view-in-github",
        "colab_type": "text"
      },
      "source": [
        "<a href=\"https://colab.research.google.com/github/krishks10/Colab/blob/main/Chapter8_PS.ipynb\" target=\"_parent\"><img src=\"https://colab.research.google.com/assets/colab-badge.svg\" alt=\"Open In Colab\"/></a>"
      ]
    },
    {
      "cell_type": "code",
      "execution_count": null,
      "metadata": {
        "id": "unvMsmzvSvqB",
        "colab": {
          "base_uri": "https://localhost:8080/"
        },
        "outputId": "c404149f-6880-4f65-95f2-c08c5bfc3d23"
      },
      "outputs": [
        {
          "output_type": "stream",
          "name": "stdout",
          "text": [
            "3\n"
          ]
        }
      ],
      "source": [
        "a = 1\n",
        "b = 2\n",
        "c = 3\n",
        "\n",
        "\n",
        "def greatest(a, b, c):\n",
        "    if(a>b and a>c):\n",
        "        print(a)\n",
        "    elif(b>a and b>c):\n",
        "        print(b)\n",
        "    else:\n",
        "        print(c)\n",
        "\n",
        "greatest(a, b, c)"
      ]
    },
    {
      "cell_type": "code",
      "source": [
        "def greatest(a, b, c):\n",
        "    if(a>b and a>c):\n",
        "        return a\n",
        "    elif(b>a and b>c):\n",
        "        return b\n",
        "    else:\n",
        "        return c\n",
        "\n",
        "\n",
        "a = int(input(\"Enter first number: \"))\n",
        "b = int(input(\"Enter second number: \"))\n",
        "c = int(input(\"Enter third number: \"))\n",
        "\n",
        "print(greatest(a, b, c))"
      ],
      "metadata": {
        "colab": {
          "base_uri": "https://localhost:8080/"
        },
        "id": "8hMY9fYA-P3V",
        "outputId": "3479705d-92f8-484c-a4da-f212baf67779"
      },
      "execution_count": null,
      "outputs": [
        {
          "output_type": "stream",
          "name": "stdout",
          "text": [
            "Enter first number: 78\n",
            "Enter second number: 34\n",
            "Enter third number: 2\n",
            "78\n"
          ]
        }
      ]
    },
    {
      "cell_type": "code",
      "source": [
        "# c/5 =(f-32)/9\n",
        "\n",
        "\n",
        "f = int(input(\"Enter temperature in fahrenheit: \"))\n",
        "c = (f-32)*5/9\n",
        "print(c)"
      ],
      "metadata": {
        "colab": {
          "base_uri": "https://localhost:8080/"
        },
        "id": "pA6nf20D-qAy",
        "outputId": "e3429d5b-5ad3-49e1-fcf7-8781b6291b78"
      },
      "execution_count": null,
      "outputs": [
        {
          "output_type": "stream",
          "name": "stdout",
          "text": [
            "Enter temperature in fahrenheit: 89\n",
            "31.666666666666668\n"
          ]
        }
      ]
    },
    {
      "cell_type": "code",
      "source": [
        "def f_to_c(f):\n",
        "    c = (f-32)*5/9\n",
        "    return c\n",
        "\n",
        "f = int(input(\"Enter temperature in fahrenheit: \"))\n",
        "print(f_to_c(f))"
      ],
      "metadata": {
        "colab": {
          "base_uri": "https://localhost:8080/"
        },
        "id": "iswml0Jrg3FT",
        "outputId": "28f33ce2-8115-43bf-8ffc-72b15b8f8371"
      },
      "execution_count": null,
      "outputs": [
        {
          "output_type": "stream",
          "name": "stdout",
          "text": [
            "Enter temperature in fahrenheit: 45\n",
            "7.222222222222222\n"
          ]
        }
      ]
    },
    {
      "cell_type": "code",
      "source": [
        "def f_to_c(f):\n",
        "    return (f-32)*5/9\n",
        "\n",
        "f = int(input(\"Enter temperature in fahrenheit: \"))\n",
        "c = f_to_c(f)\n",
        "print(f\"{round(c, 2)}°C\")"
      ],
      "metadata": {
        "id": "6dFsJE8KgtO9",
        "colab": {
          "base_uri": "https://localhost:8080/"
        },
        "outputId": "6cd08714-2b32-4123-e166-68c6226892d9"
      },
      "execution_count": null,
      "outputs": [
        {
          "output_type": "stream",
          "name": "stdout",
          "text": [
            "Enter temperature in fahrenheit: 100\n",
            "37.78°C\n"
          ]
        }
      ]
    },
    {
      "cell_type": "code",
      "source": [
        "print(\"a\")\n",
        "print(\"b\")\n",
        "print(\"c\", end = \"\")\n",
        "print(\"d\", end = \"\")"
      ],
      "metadata": {
        "colab": {
          "base_uri": "https://localhost:8080/"
        },
        "id": "9S0TuHOfjjtX",
        "outputId": "4f1433a6-879a-421d-a492-e82d1ffbd0c5"
      },
      "execution_count": null,
      "outputs": [
        {
          "output_type": "stream",
          "name": "stdout",
          "text": [
            "a\n",
            "b\n",
            "cd"
          ]
        }
      ]
    },
    {
      "cell_type": "code",
      "source": [
        "'''\n",
        "sum(1) = 1\n",
        "sum(2) = 1 + 2\n",
        "sum(3) = 1 + 2 + 3\n",
        "sum(4) = 1 + 2 + 3 + 4\n",
        "sum(5) = 1 + 2 + 3 + 4 + 5\n",
        "\n",
        "sum(n) = 1 + 2 + 3 + 4 + 5 +.... + n\n",
        "sum(n) = sum(n-1)\n",
        "'''\n",
        "\n",
        "def sum(n):\n",
        "    if(n==1):\n",
        "        return 4\n",
        "    return n + sum(n-1)\n",
        "\n",
        "print(sum(5))\n"
      ],
      "metadata": {
        "colab": {
          "base_uri": "https://localhost:8080/"
        },
        "id": "CupsxVUHkFOc",
        "outputId": "d0626b6e-0d76-4fb1-ad6a-ed7a8e1d3894"
      },
      "execution_count": null,
      "outputs": [
        {
          "output_type": "stream",
          "name": "stdout",
          "text": [
            "18\n"
          ]
        }
      ]
    },
    {
      "cell_type": "code",
      "source": [
        "def pattern(n):\n",
        "    if(n==0):\n",
        "        return\n",
        "    print(\"*\" * n)\n",
        "    pattern(n-1)\n",
        "\n",
        "pattern(3)"
      ],
      "metadata": {
        "colab": {
          "base_uri": "https://localhost:8080/"
        },
        "id": "ujLH0ROrlGrm",
        "outputId": "b0b15bc2-17eb-44f8-a232-c38e6d5ce617"
      },
      "execution_count": null,
      "outputs": [
        {
          "output_type": "stream",
          "name": "stdout",
          "text": [
            "***\n",
            "**\n",
            "*\n"
          ]
        }
      ]
    },
    {
      "cell_type": "code",
      "source": [
        "inches = int(input(\"Enter the inches: \"))\n",
        "\n",
        "def inc_to_cm(inc):\n",
        "    return inc * 2.54\n",
        "\n",
        "print(f\"{inches} inches = {inc_to_cm(inches)} cm\")"
      ],
      "metadata": {
        "colab": {
          "base_uri": "https://localhost:8080/"
        },
        "id": "u4doY4b6sfMS",
        "outputId": "92713760-2fee-4062-f987-d0ce37f9e0de"
      },
      "execution_count": null,
      "outputs": [
        {
          "output_type": "stream",
          "name": "stdout",
          "text": [
            "Enter the inches: 78\n",
            "78 inches = 198.12 cm\n"
          ]
        }
      ]
    },
    {
      "cell_type": "code",
      "source": [],
      "metadata": {
        "id": "u1smv4p7tgIG"
      },
      "execution_count": null,
      "outputs": []
    }
  ]
}