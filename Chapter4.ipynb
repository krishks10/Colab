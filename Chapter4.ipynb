{
  "nbformat": 4,
  "nbformat_minor": 0,
  "metadata": {
    "colab": {
      "provenance": [],
      "authorship_tag": "ABX9TyPoDBvtCFi4ylOqg167uiYY",
      "include_colab_link": true
    },
    "kernelspec": {
      "name": "python3",
      "display_name": "Python 3"
    },
    "language_info": {
      "name": "python"
    }
  },
  "cells": [
    {
      "cell_type": "markdown",
      "metadata": {
        "id": "view-in-github",
        "colab_type": "text"
      },
      "source": [
        "<a href=\"https://colab.research.google.com/github/krishks10/Colab/blob/main/Chapter4.ipynb\" target=\"_parent\"><img src=\"https://colab.research.google.com/assets/colab-badge.svg\" alt=\"Open In Colab\"/></a>"
      ]
    },
    {
      "cell_type": "code",
      "execution_count": 6,
      "metadata": {
        "colab": {
          "base_uri": "https://localhost:8080/"
        },
        "id": "lt2ruqcBZ0sQ",
        "outputId": "35f6d70c-4e75-457a-99d5-cc3f32126b67"
      },
      "outputs": [
        {
          "output_type": "stream",
          "name": "stdout",
          "text": [
            "Apple\n",
            "Grapes\n",
            "[345.01, False, 'Aakash', 'Rohan']\n"
          ]
        }
      ],
      "source": [
        "friends = [\"Apple\", \"Orange\", 5, 345.01, False, \"Aakash\", \"Rohan\" ]\n",
        "\n",
        "print(friends[0])\n",
        "friends[0] = \"Grapes\"\n",
        "\n",
        "print(friends[0])\n",
        "print(friends[3:7])"
      ]
    },
    {
      "cell_type": "code",
      "source": [
        "friends = [\"Apple\", \"Orange\", 5, 345.06, False, \"Aakash\", \"Rohan\"]\n",
        "print(friends)\n",
        "friends.append(\"Krish\")\n",
        "print(friends)\n",
        "\n",
        "l1 = [1, 34,62, 2, 6, 11]\n",
        "# l1.sort()\n",
        "# l1.reverse()\n",
        "# l1.insert(2, 333333) # Insert 333333 such that its index in the list is 3\n",
        "value = l1.pop(2)\n",
        "print(value)\n",
        "print(l1)"
      ],
      "metadata": {
        "colab": {
          "base_uri": "https://localhost:8080/"
        },
        "id": "FgIbT7M_cB7F",
        "outputId": "00c3af29-ca6b-4af6-aa5a-761eea8b8968"
      },
      "execution_count": 9,
      "outputs": [
        {
          "output_type": "stream",
          "name": "stdout",
          "text": [
            "['Apple', 'Orange', 5, 345.06, False, 'Aakash', 'Rohan']\n",
            "['Apple', 'Orange', 5, 345.06, False, 'Aakash', 'Rohan', 'Krish']\n",
            "62\n",
            "[1, 34, 2, 6, 11]\n"
          ]
        }
      ]
    },
    {
      "cell_type": "code",
      "source": [
        "l1 = [1, 8, 7, 2, 21, 15]\n",
        "l1.sort()\n",
        "l1.remove(21)\n",
        "print(l1)"
      ],
      "metadata": {
        "colab": {
          "base_uri": "https://localhost:8080/"
        },
        "id": "imaTNCkLckDU",
        "outputId": "8245f366-484d-4a7b-9e95-0ab10ec595fc"
      },
      "execution_count": 18,
      "outputs": [
        {
          "output_type": "stream",
          "name": "stdout",
          "text": [
            "[1, 2, 7, 8, 15]\n"
          ]
        }
      ]
    },
    {
      "cell_type": "code",
      "source": [
        "a = (1,45,342,3424,False, \"Rohan\", \"Shivam\")\n",
        "print(a)\n",
        "print(type(a))"
      ],
      "metadata": {
        "colab": {
          "base_uri": "https://localhost:8080/"
        },
        "id": "TNqOpvjoErwA",
        "outputId": "86446bc4-9f53-4633-d50c-e0b324a39a53"
      },
      "execution_count": 17,
      "outputs": [
        {
          "output_type": "stream",
          "name": "stdout",
          "text": [
            "(1, 45, 342, 3424, False, 'Rohan', 'Shivam')\n",
            "<class 'tuple'>\n"
          ]
        }
      ]
    }
  ]
}