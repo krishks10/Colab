{
  "nbformat": 4,
  "nbformat_minor": 0,
  "metadata": {
    "colab": {
      "provenance": [],
      "authorship_tag": "ABX9TyOu2EVofOycqgw8XPd4+4rk",
      "include_colab_link": true
    },
    "kernelspec": {
      "name": "python3",
      "display_name": "Python 3"
    },
    "language_info": {
      "name": "python"
    }
  },
  "cells": [
    {
      "cell_type": "markdown",
      "metadata": {
        "id": "view-in-github",
        "colab_type": "text"
      },
      "source": [
        "<a href=\"https://colab.research.google.com/github/krishks10/Colab/blob/main/Chapter5_PS.ipynb\" target=\"_parent\"><img src=\"https://colab.research.google.com/assets/colab-badge.svg\" alt=\"Open In Colab\"/></a>"
      ]
    },
    {
      "cell_type": "code",
      "execution_count": 3,
      "metadata": {
        "colab": {
          "base_uri": "https://localhost:8080/"
        },
        "id": "0ZThAOb3QAOB",
        "outputId": "5e0b4cac-a08a-4b68-800d-12e38372ccaf"
      },
      "outputs": [
        {
          "output_type": "stream",
          "name": "stdout",
          "text": [
            "Enter the word you want meaning of: kursi\n",
            "chair\n"
          ]
        }
      ],
      "source": [
        "words = {\n",
        "    \"madad\" : \"Help\",\n",
        "    \"kursi\" : \"chair\",\n",
        "    \"billi\" : \"cat\"\n",
        "}\n",
        "\n",
        "word = input(\"Enter the word you want meaning of: \")\n",
        "\n",
        "print(words[word])"
      ]
    },
    {
      "cell_type": "code",
      "source": [
        "s = set()\n",
        "n = input(\"Enter number: \")\n",
        "s.add(int(n))\n",
        "n = input(\"Enter number: \")\n",
        "s.add(int(n))\n",
        "n = input(\"Enter number: \")\n",
        "s.add(int(n))\n",
        "n = input(\"Enter number: \")\n",
        "s.add(int(n))\n",
        "n = input(\"Enter number: \")\n",
        "s.add(int(n))\n",
        "n = input(\"Enter number: \")\n",
        "s.add(int(n))\n",
        "n = input(\"Enter number: \")\n",
        "s.add(int(n))\n",
        "n = input(\"Enter number: \")\n",
        "s.add(int(n))\n",
        "\n",
        "print(s)"
      ],
      "metadata": {
        "colab": {
          "base_uri": "https://localhost:8080/"
        },
        "id": "HUq5Pm5PQzTn",
        "outputId": "281ae78f-9ba8-44af-ea3e-75ee2da5483c"
      },
      "execution_count": 4,
      "outputs": [
        {
          "output_type": "stream",
          "name": "stdout",
          "text": [
            "Enter number: 2\n",
            "Enter number: 4\n",
            "Enter number: 6\n",
            "Enter number: 8\n",
            "Enter number: 10\n",
            "Enter number: 15\n",
            "Enter number: 20\n",
            "Enter number: 40\n",
            "{2, 4, 6, 8, 40, 10, 15, 20}\n"
          ]
        }
      ]
    },
    {
      "cell_type": "code",
      "source": [
        "s = set()\n",
        "s.add(18)\n",
        "s.add(\"18\")\n",
        "\n",
        "print(s)"
      ],
      "metadata": {
        "colab": {
          "base_uri": "https://localhost:8080/"
        },
        "id": "7KJ6vN2TS7tI",
        "outputId": "2e5ecdf9-ff97-4122-9cb8-1685f45e846f"
      },
      "execution_count": 7,
      "outputs": [
        {
          "output_type": "stream",
          "name": "stdout",
          "text": [
            "{'18', 18}\n"
          ]
        }
      ]
    },
    {
      "cell_type": "code",
      "source": [
        "s = set()\n",
        "s.add(20)\n",
        "s.add('20.0')\n",
        "s.add('20')\n",
        "print(s)\n",
        "\n",
        "len(s)"
      ],
      "metadata": {
        "colab": {
          "base_uri": "https://localhost:8080/"
        },
        "id": "O5-cmSUqVCYK",
        "outputId": "0f45b776-f41a-492b-bc27-482f661b24f1"
      },
      "execution_count": 12,
      "outputs": [
        {
          "output_type": "stream",
          "name": "stdout",
          "text": [
            "{'20.0', 20, '20'}\n"
          ]
        },
        {
          "output_type": "execute_result",
          "data": {
            "text/plain": [
              "3"
            ]
          },
          "metadata": {},
          "execution_count": 12
        }
      ]
    },
    {
      "cell_type": "code",
      "source": [
        "s = {}\n",
        "print(type(s))"
      ],
      "metadata": {
        "colab": {
          "base_uri": "https://localhost:8080/"
        },
        "id": "xLVZ11fyVpKP",
        "outputId": "cc3a410c-2f65-45da-f8a0-25eb33cc1dee"
      },
      "execution_count": 13,
      "outputs": [
        {
          "output_type": "stream",
          "name": "stdout",
          "text": [
            "<class 'dict'>\n"
          ]
        }
      ]
    },
    {
      "cell_type": "code",
      "source": [
        "d = {}\n",
        "\n",
        "name = input(\"Enter friends name: \")\n",
        "lang = input(\"Enter language name: \")\n",
        "d.update({name : lang})\n",
        "\n",
        "name = input(\"Enter friends name: \")\n",
        "lang = input(\"Enter language name: \")\n",
        "d.update({name : lang})\n",
        "\n",
        "name = input(\"Enter friends name: \")\n",
        "lang = input(\"Enter language name: \")\n",
        "d.update({name : lang})\n",
        "\n",
        "name = input(\"Enter friends name: \")\n",
        "lang = input(\"Enter language name: \")\n",
        "d.update({name : lang})\n",
        "\n",
        "print(d)"
      ],
      "metadata": {
        "colab": {
          "base_uri": "https://localhost:8080/"
        },
        "id": "ekxgXqiPVw0e",
        "outputId": "61332ed0-8aa4-4dd0-d6f4-0d356b411273"
      },
      "execution_count": 14,
      "outputs": [
        {
          "output_type": "stream",
          "name": "stdout",
          "text": [
            "Enter friends name: Aditya\n",
            "Enter language name: English\n",
            "Enter friends name: Pranav\n",
            "Enter language name: Hindi\n",
            "Enter friends name: Bisen\n",
            "Enter language name: Hangul\n",
            "Enter friends name: Boruto\n",
            "Enter language name: Kanji\n",
            "{'Aditya': 'English', 'Pranav': 'Hindi', 'Bisen': 'Hangul', 'Boruto': 'Kanji'}\n"
          ]
        }
      ]
    },
    {
      "cell_type": "code",
      "source": [
        "d = {}\n",
        "name = input(\"Enter friends name: \")\n",
        "lang = input(\"Enter language name: \")\n",
        "d.update({name : lang})\n",
        "\n",
        "name = input(\"Enter friends name: \")\n",
        "lang = input(\"Enter language name: \")\n",
        "d.update({name : lang})\n",
        "\n",
        "name = input(\"Enter friends name: \")\n",
        "lang = input(\"Enter language name: \")\n",
        "d.update({name : lang})\n",
        "print(d)"
      ],
      "metadata": {
        "colab": {
          "base_uri": "https://localhost:8080/"
        },
        "id": "KBOE8z96Xjsq",
        "outputId": "50647c6d-b6a1-43f9-da36-0f336a03a2d4"
      },
      "execution_count": 4,
      "outputs": [
        {
          "output_type": "stream",
          "name": "stdout",
          "text": [
            "Enter friends name: krish\n",
            "Enter language name: hindi\n",
            "Enter friends name: krish\n",
            "Enter language name: hindi\n",
            "Enter friends name: yash\n",
            "Enter language name: english\n",
            "{'krish': 'hindi', 'yash': 'english'}\n"
          ]
        }
      ]
    },
    {
      "cell_type": "code",
      "source": [
        "d = {}\n",
        "\n",
        "name = input(\"Enter friends name: \")\n",
        "lang = input(\"Enter language name: \")\n",
        "d.update({name : lang})\n",
        "name = input(\"Enter friends name: \")\n",
        "lang = input(\"Enter language name: \")\n",
        "d.update({name : lang})\n",
        "name = input(\"Enter friends name: \")\n",
        "lang = input(\"Enter language name: \")\n",
        "d.update({name : lang})\n",
        "name = input(\"Enter friends name: \")\n",
        "lang = input(\"Enter language name: \")\n",
        "d.update({name : lang})\n",
        "\n",
        "print(d)"
      ],
      "metadata": {
        "colab": {
          "base_uri": "https://localhost:8080/"
        },
        "id": "Q7CXYZx1ggUH",
        "outputId": "8efb175c-e2b7-463e-af5c-b5bf50c3aad4"
      },
      "execution_count": 7,
      "outputs": [
        {
          "output_type": "stream",
          "name": "stdout",
          "text": [
            "Enter friends name: krish\n",
            "Enter language name: hindi\n",
            "Enter friends name: yash\n",
            "Enter language name: uy\n",
            "Enter friends name: krish\n",
            "Enter language name: english\n",
            "Enter friends name: te\n",
            "Enter language name: yr\n",
            "{'krish': 'english', 'yash': 'uy', 'te': 'yr'}\n"
          ]
        }
      ]
    },
    {
      "cell_type": "code",
      "source": [
        "s = {8, 7, 12, \"Krish\", [1,2]}\n",
        "\n",
        "s[4][0] = 9\n",
        "\n",
        "#the value cannot be change!!"
      ],
      "metadata": {
        "colab": {
          "base_uri": "https://localhost:8080/",
          "height": 183
        },
        "id": "iPKEzF2Shucx",
        "outputId": "437f310c-734a-46d7-f8cd-7cd6b89de9ba"
      },
      "execution_count": 9,
      "outputs": [
        {
          "output_type": "error",
          "ename": "TypeError",
          "evalue": "unhashable type: 'list'",
          "traceback": [
            "\u001b[0;31m---------------------------------------------------------------------------\u001b[0m",
            "\u001b[0;31mTypeError\u001b[0m                                 Traceback (most recent call last)",
            "\u001b[0;32m<ipython-input-9-bad5e37902df>\u001b[0m in \u001b[0;36m<cell line: 0>\u001b[0;34m()\u001b[0m\n\u001b[0;32m----> 1\u001b[0;31m \u001b[0ms\u001b[0m \u001b[0;34m=\u001b[0m \u001b[0;34m{\u001b[0m\u001b[0;36m8\u001b[0m\u001b[0;34m,\u001b[0m \u001b[0;36m7\u001b[0m\u001b[0;34m,\u001b[0m \u001b[0;36m12\u001b[0m\u001b[0;34m,\u001b[0m \u001b[0;34m\"Krish\"\u001b[0m\u001b[0;34m,\u001b[0m \u001b[0;34m[\u001b[0m\u001b[0;36m1\u001b[0m\u001b[0;34m,\u001b[0m\u001b[0;36m2\u001b[0m\u001b[0;34m]\u001b[0m\u001b[0;34m}\u001b[0m\u001b[0;34m\u001b[0m\u001b[0;34m\u001b[0m\u001b[0m\n\u001b[0m\u001b[1;32m      2\u001b[0m \u001b[0;34m\u001b[0m\u001b[0m\n\u001b[1;32m      3\u001b[0m \u001b[0ms\u001b[0m\u001b[0;34m[\u001b[0m\u001b[0;36m4\u001b[0m\u001b[0;34m]\u001b[0m\u001b[0;34m[\u001b[0m\u001b[0;36m0\u001b[0m\u001b[0;34m]\u001b[0m \u001b[0;34m=\u001b[0m \u001b[0;36m9\u001b[0m\u001b[0;34m\u001b[0m\u001b[0;34m\u001b[0m\u001b[0m\n",
            "\u001b[0;31mTypeError\u001b[0m: unhashable type: 'list'"
          ]
        }
      ]
    }
  ]
}