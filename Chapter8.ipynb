{
  "nbformat": 4,
  "nbformat_minor": 0,
  "metadata": {
    "colab": {
      "provenance": [],
      "authorship_tag": "ABX9TyOkGzEilC5id1mHnDYG9+Ae",
      "include_colab_link": true
    },
    "kernelspec": {
      "name": "python3",
      "display_name": "Python 3"
    },
    "language_info": {
      "name": "python"
    }
  },
  "cells": [
    {
      "cell_type": "markdown",
      "metadata": {
        "id": "view-in-github",
        "colab_type": "text"
      },
      "source": [
        "<a href=\"https://colab.research.google.com/github/krishks10/Colab/blob/main/Chapter8.ipynb\" target=\"_parent\"><img src=\"https://colab.research.google.com/assets/colab-badge.svg\" alt=\"Open In Colab\"/></a>"
      ]
    },
    {
      "cell_type": "code",
      "execution_count": null,
      "metadata": {
        "colab": {
          "base_uri": "https://localhost:8080/"
        },
        "id": "nQz8Feh-GOKw",
        "outputId": "6a12be54-acc7-4bba-bd9f-0f56aa882709"
      },
      "outputs": [
        {
          "output_type": "stream",
          "name": "stdout",
          "text": [
            "Hello\n",
            "Thanks\n"
          ]
        }
      ],
      "source": [
        "def func1():\n",
        "     print(\"Hello\")\n",
        "\n",
        "func1()\n",
        "print(\"Thanks\")"
      ]
    },
    {
      "cell_type": "code",
      "source": [
        "def avg():\n",
        "    a = int(input(\"Enter you number\"))\n",
        "    b = int(input(\"Enter you number\"))\n",
        "    c = int(input(\"Enter you number\"))\n",
        "\n",
        "    average = (a + b + c)/3\n",
        "    print(average)\n",
        "\n",
        "avg() # Function Call\n",
        "print(\"Thank you!\")\n",
        "avg()\n",
        "print(\"Thank you!\")\n",
        "avg()\n",
        "print(\"Thank you!\")\n",
        "avg()\n",
        "avg()"
      ],
      "metadata": {
        "colab": {
          "base_uri": "https://localhost:8080/"
        },
        "id": "5nbSi3r5IiyL",
        "outputId": "c04f5e37-a76b-4ff7-c90d-e53117b93168"
      },
      "execution_count": null,
      "outputs": [
        {
          "output_type": "stream",
          "name": "stdout",
          "text": [
            "Enter you number2\n",
            "Enter you number2\n",
            "Enter you number2\n",
            "2.0\n",
            "Thank you!\n",
            "Enter you number2\n",
            "Enter you number2\n",
            "Enter you number2\n",
            "2.0\n",
            "Thank you!\n",
            "Enter you number2\n",
            "Enter you number2\n",
            "Enter you number2\n",
            "2.0\n",
            "Thank you!\n",
            "Enter you number2\n",
            "Enter you number2\n",
            "Enter you number2\n",
            "2.0\n",
            "Enter you number3\n",
            "Enter you number4\n",
            "Enter you number5\n",
            "4.0\n"
          ]
        }
      ]
    },
    {
      "cell_type": "code",
      "source": [
        "def greet(name):\n",
        "    gr = \"Hello\"+ name\n",
        "    return gr\n",
        "\n",
        "a = greet(\" Harry\")\n",
        "greet(name =\" Harry\")\n",
        "print(a)"
      ],
      "metadata": {
        "id": "lbKlFRdAI9Xl",
        "colab": {
          "base_uri": "https://localhost:8080/"
        },
        "outputId": "8879c828-54f7-446c-d248-e78e5f676ae8"
      },
      "execution_count": 11,
      "outputs": [
        {
          "output_type": "stream",
          "name": "stdout",
          "text": [
            "Hello Harry\n"
          ]
        }
      ]
    },
    {
      "cell_type": "code",
      "source": [
        "def goodDay(name):\n",
        "    print(\"Good Day, \" + name)\n",
        "\n",
        "goodDay((\"Harry\"))\n",
        "goodDay((\"Krish\"))"
      ],
      "metadata": {
        "colab": {
          "base_uri": "https://localhost:8080/"
        },
        "id": "GKP60Pl9fniJ",
        "outputId": "3b36b9a6-9290-4c5a-c39a-16093a2ebc92"
      },
      "execution_count": 13,
      "outputs": [
        {
          "output_type": "stream",
          "name": "stdout",
          "text": [
            "Good Day, Harry\n",
            "Good Day, Krish\n"
          ]
        }
      ]
    },
    {
      "cell_type": "code",
      "source": [
        "def goodDay(name, ending):\n",
        "    print(\"Good Day, \" + name)\n",
        "    print(ending)\n",
        "\n",
        "goodDay(\"Harry\", \"Thank You\")\n",
        "goodDay(\"Krish\", \"Thank You\")"
      ],
      "metadata": {
        "colab": {
          "base_uri": "https://localhost:8080/"
        },
        "id": "Nuv6g8Moh18U",
        "outputId": "c0d534bf-def4-41f5-ebb9-5d167acadd98"
      },
      "execution_count": 15,
      "outputs": [
        {
          "output_type": "stream",
          "name": "stdout",
          "text": [
            "Good Day, Harry\n",
            "Thank You\n",
            "Good Day, Krish\n",
            "Thank You\n"
          ]
        }
      ]
    },
    {
      "cell_type": "code",
      "source": [
        "def goodDay(name, ending=\"Thank You\"):\n",
        "    print(f\"Good Dayy, {name}\")\n",
        "    print(ending)\n",
        "\n",
        "goodDay(\"Harry\", \"Thanks\")\n",
        "goodDay(\"Krish\")"
      ],
      "metadata": {
        "colab": {
          "base_uri": "https://localhost:8080/"
        },
        "id": "AcuxzsTIflaI",
        "outputId": "fd80912e-ca6c-42ab-85f0-faad50e7d3bd"
      },
      "execution_count": 2,
      "outputs": [
        {
          "output_type": "stream",
          "name": "stdout",
          "text": [
            "Good Dayy, Harry\n",
            "Thanks\n",
            "Good Dayy, Krish\n",
            "Thank You\n"
          ]
        }
      ]
    }
  ]
}