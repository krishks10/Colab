{
  "nbformat": 4,
  "nbformat_minor": 0,
  "metadata": {
    "colab": {
      "provenance": [],
      "authorship_tag": "ABX9TyPrS30bdOUN5T9M+04aukAj",
      "include_colab_link": true
    },
    "kernelspec": {
      "name": "python3",
      "display_name": "Python 3"
    },
    "language_info": {
      "name": "python"
    }
  },
  "cells": [
    {
      "cell_type": "markdown",
      "metadata": {
        "id": "view-in-github",
        "colab_type": "text"
      },
      "source": [
        "<a href=\"https://colab.research.google.com/github/krishks10/Colab/blob/main/Chapter5.ipynb\" target=\"_parent\"><img src=\"https://colab.research.google.com/assets/colab-badge.svg\" alt=\"Open In Colab\"/></a>"
      ]
    },
    {
      "cell_type": "code",
      "execution_count": null,
      "metadata": {
        "id": "tcRHuYQTIfVy"
      },
      "outputs": [],
      "source": [
        "a = {\"key\" : \"value\",\n",
        "     \"Krish\" : \"code\",\n",
        "     \"marks\" : \"100\",\n",
        "     \"list\" : [1, 2, 9]}\n",
        "\n",
        "a[\"key\"]\n",
        "a[\"list\"]"
      ]
    },
    {
      "cell_type": "code",
      "source": [
        "a = {\"name\" : \"Krish\",\n",
        "     \"from\" : \"india\",\n",
        "     \"marks\" : [92, 98, 96]}\n",
        "#dont forget to put comma\n",
        "a[\"from\"]\n",
        "a.get(\"name\")"
      ],
      "metadata": {
        "colab": {
          "base_uri": "https://localhost:8080/",
          "height": 35
        },
        "id": "5HgXuC_UAmz8",
        "outputId": "dac09b00-bd38-4a85-8a7a-1860084f719a"
      },
      "execution_count": 1,
      "outputs": [
        {
          "output_type": "execute_result",
          "data": {
            "text/plain": [
              "'Krish'"
            ],
            "application/vnd.google.colaboratory.intrinsic+json": {
              "type": "string"
            }
          },
          "metadata": {},
          "execution_count": 1
        }
      ]
    },
    {
      "cell_type": "code",
      "source": [
        "s=[1, 2, 4, 8, 11]\n",
        "\n",
        "s.remove(8)\n",
        "s.pop()"
      ],
      "metadata": {
        "colab": {
          "base_uri": "https://localhost:8080/"
        },
        "id": "pokT_9VzFNlC",
        "outputId": "0db2d546-648d-447b-83e4-5d59b67c0ccc"
      },
      "execution_count": null,
      "outputs": [
        {
          "output_type": "execute_result",
          "data": {
            "text/plain": [
              "11"
            ]
          },
          "metadata": {},
          "execution_count": 35
        }
      ]
    },
    {
      "cell_type": "code",
      "source": [
        "s = [\n",
        "    [1, 2, 3],\n",
        "    [4, 5, 6],\n",
        "    [7, 8, 9]\n",
        "]\n",
        "\n",
        "len(s)"
      ],
      "metadata": {
        "colab": {
          "base_uri": "https://localhost:8080/"
        },
        "id": "et1c1-5bFjrG",
        "outputId": "227e9c10-f368-44b8-f46c-f3fc9b06f719"
      },
      "execution_count": null,
      "outputs": [
        {
          "output_type": "execute_result",
          "data": {
            "text/plain": [
              "3"
            ]
          },
          "metadata": {},
          "execution_count": 36
        }
      ]
    },
    {
      "cell_type": "code",
      "source": [],
      "metadata": {
        "id": "ZZkq-p3G1aiJ"
      },
      "execution_count": null,
      "outputs": []
    }
  ]
}