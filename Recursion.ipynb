{
  "nbformat": 4,
  "nbformat_minor": 0,
  "metadata": {
    "colab": {
      "provenance": [],
      "authorship_tag": "ABX9TyPIHVvav0UOznWZQnHm+fzI",
      "include_colab_link": true
    },
    "kernelspec": {
      "name": "python3",
      "display_name": "Python 3"
    },
    "language_info": {
      "name": "python"
    }
  },
  "cells": [
    {
      "cell_type": "markdown",
      "metadata": {
        "id": "view-in-github",
        "colab_type": "text"
      },
      "source": [
        "<a href=\"https://colab.research.google.com/github/krishks10/Colab/blob/main/Recursion.ipynb\" target=\"_parent\"><img src=\"https://colab.research.google.com/assets/colab-badge.svg\" alt=\"Open In Colab\"/></a>"
      ]
    },
    {
      "cell_type": "code",
      "execution_count": 6,
      "metadata": {
        "colab": {
          "base_uri": "https://localhost:8080/"
        },
        "id": "ieK2Ww7EjUde",
        "outputId": "4d9c39a6-1145-40e1-fab1-d1ba1366f765"
      },
      "outputs": [
        {
          "output_type": "execute_result",
          "data": {
            "text/plain": [
              "24"
            ]
          },
          "metadata": {},
          "execution_count": 6
        }
      ],
      "source": [
        "def factorial(n):\n",
        "      if n==0 or n==1:\n",
        "              return 1\n",
        "      else:\n",
        "          return n * factorial(n-1)\n",
        "factorial(4)"
      ]
    },
    {
      "cell_type": "code",
      "source": [
        "def factorial(k):\n",
        "      if k==0 or k==9:\n",
        "              return 9\n",
        "\n",
        "      else:\n",
        "          return 9 * factorial(k-1)\n",
        "factorial(4)"
      ],
      "metadata": {
        "colab": {
          "base_uri": "https://localhost:8080/"
        },
        "id": "IetyUW-dk-zT",
        "outputId": "66090ca8-4fd7-44a0-afda-065a2b41f90e"
      },
      "execution_count": 8,
      "outputs": [
        {
          "output_type": "execute_result",
          "data": {
            "text/plain": [
              "59049"
            ]
          },
          "metadata": {},
          "execution_count": 8
        }
      ]
    },
    {
      "cell_type": "code",
      "source": [
        "def factorial(k):\n",
        "      if k==0 or k==24:\n",
        "              return 24\n",
        "\n",
        "      else:\n",
        "          return 24 * factorial(k-1)\n",
        "factorial(4)"
      ],
      "metadata": {
        "colab": {
          "base_uri": "https://localhost:8080/"
        },
        "id": "95OwE2KkmPGq",
        "outputId": "eda46d38-426c-4860-c1ea-01d40441c2ed"
      },
      "execution_count": 9,
      "outputs": [
        {
          "output_type": "execute_result",
          "data": {
            "text/plain": [
              "7962624"
            ]
          },
          "metadata": {},
          "execution_count": 9
        }
      ]
    },
    {
      "cell_type": "code",
      "source": [],
      "metadata": {
        "id": "g_kPbDgtmhT_"
      },
      "execution_count": null,
      "outputs": []
    }
  ]
}