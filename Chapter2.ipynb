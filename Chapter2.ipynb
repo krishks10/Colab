{
  "nbformat": 4,
  "nbformat_minor": 0,
  "metadata": {
    "colab": {
      "provenance": [],
      "authorship_tag": "ABX9TyPmIgdEh1BtngT4wLiIjIcM",
      "include_colab_link": true
    },
    "kernelspec": {
      "name": "python3",
      "display_name": "Python 3"
    },
    "language_info": {
      "name": "python"
    }
  },
  "cells": [
    {
      "cell_type": "markdown",
      "metadata": {
        "id": "view-in-github",
        "colab_type": "text"
      },
      "source": [
        "<a href=\"https://colab.research.google.com/github/krishks10/Colab/blob/main/Chapter2.ipynb\" target=\"_parent\"><img src=\"https://colab.research.google.com/assets/colab-badge.svg\" alt=\"Open In Colab\"/></a>"
      ]
    },
    {
      "cell_type": "markdown",
      "source": [
        "variable"
      ],
      "metadata": {
        "id": "Yq2y71JZwRzv"
      }
    },
    {
      "cell_type": "code",
      "source": [
        "a = 35\n",
        "\n",
        "b = 45\n",
        "\n",
        "c = (a+b)\n",
        "\n",
        "print (c)"
      ],
      "metadata": {
        "colab": {
          "base_uri": "https://localhost:8080/"
        },
        "id": "EEi77BGov812",
        "outputId": "5bb09bb6-4eed-4cc2-cacd-e42bd980e690"
      },
      "execution_count": null,
      "outputs": [
        {
          "output_type": "stream",
          "name": "stdout",
          "text": [
            "80\n"
          ]
        }
      ]
    },
    {
      "cell_type": "markdown",
      "source": [
        "datatype"
      ],
      "metadata": {
        "id": "8sGjTCTsvzNL"
      }
    },
    {
      "cell_type": "code",
      "execution_count": null,
      "metadata": {
        "id": "6DySEDETLSEA"
      },
      "outputs": [],
      "source": [
        "a = 1  # a is an integer\n",
        "\n",
        "b = 5.3 # b is a floating point number\n",
        "\n",
        "c= \"Krish\" # c is an string\n",
        "\n",
        "d = False # d is boolean variable\n",
        "\n",
        "e = None # e is an none type variable"
      ]
    },
    {
      "cell_type": "markdown",
      "source": [
        "rules variable"
      ],
      "metadata": {
        "id": "eFbMs7f-wUkD"
      }
    },
    {
      "cell_type": "code",
      "source": [
        "a = 23\n",
        "\n",
        "aaa = 435\n",
        "\n",
        "krish = 34\n",
        "\n",
        "samuel = 45\n",
        "\n",
        "_samuel = 34\n",
        "\n",
        "# @ samuel = 56 #Invalid due yp @ symbol\n",
        "#s@muel #invalid due to @ symbol"
      ],
      "metadata": {
        "id": "pSSGKcC8wW7y"
      },
      "execution_count": null,
      "outputs": []
    },
    {
      "cell_type": "markdown",
      "source": [
        "operator"
      ],
      "metadata": {
        "id": "d5JdbXvKxlXz"
      }
    },
    {
      "cell_type": "code",
      "source": [
        "# Arithmetic Operators\n",
        "a = 7\n",
        "b = 4\n",
        "c = a+b\n",
        "print(c)\n",
        "\n",
        "# Assignment Operators\n",
        "a= 4-2\n",
        "print (a)\n",
        "\n",
        "b = 6\n",
        "# b += 3 # Increment the value of b by 3 and then assign it to b\n",
        "# b -= 3 # Decrement the value of b by 3 and then assign it to b\n",
        "print (b)"
      ],
      "metadata": {
        "colab": {
          "base_uri": "https://localhost:8080/"
        },
        "collapsed": true,
        "id": "tmbzAqX8xnlK",
        "outputId": "c2d27272-53bb-450e-a4ba-bd093c53ef93"
      },
      "execution_count": null,
      "outputs": [
        {
          "output_type": "stream",
          "name": "stdout",
          "text": [
            "11\n",
            "2\n",
            "3\n"
          ]
        }
      ]
    },
    {
      "cell_type": "markdown",
      "source": [
        "comparision operator"
      ],
      "metadata": {
        "id": "FjNxReOP3qpa"
      }
    },
    {
      "cell_type": "code",
      "source": [
        "# Comparison Operators\n",
        "\n",
        "d = 5<4\n",
        "\n",
        "print(d)\n",
        "\n",
        "\n",
        "# Logical Operators\n",
        "\n",
        "e = True or False\n",
        "\n",
        "# Truth table of 'or'\n",
        "print(\"True or False is \", True or False)\n",
        "print(\"True or True is \", True or True)\n",
        "print(\"False or True is \", False or True)\n",
        "print(\"False or False is \", False or False)\n",
        "\n",
        "# Truth table of 'and'\n",
        "print(\"True and False is \", True and False)\n",
        "print(\"True and True is \", True and True)\n",
        "print(\"False and True is \", False and True)\n",
        "print(\"False and False is \", False and False)\n",
        "\n",
        "print(not(True))"
      ],
      "metadata": {
        "colab": {
          "base_uri": "https://localhost:8080/"
        },
        "collapsed": true,
        "id": "3AJrjSo13tKq",
        "outputId": "3c1ca241-46a1-49b3-e4d1-d6ced3c80817"
      },
      "execution_count": null,
      "outputs": [
        {
          "output_type": "stream",
          "name": "stdout",
          "text": [
            "False\n",
            "True or False is  True\n",
            "True or True is  True\n",
            "False or True is  True\n",
            "False or False is  False\n",
            "True and False is  False\n",
            "True and True is  True\n",
            "False and True is  False\n",
            "False and False is  False\n",
            "False\n"
          ]
        }
      ]
    },
    {
      "cell_type": "markdown",
      "source": [
        "type"
      ],
      "metadata": {
        "id": "GHiVgGT96kZw"
      }
    },
    {
      "cell_type": "code",
      "source": [
        "a = \"31.2\"\n",
        "b =  float(a) # a but the type should be float\n",
        "t = type(b) # class <int>\n",
        "print(t)"
      ],
      "metadata": {
        "colab": {
          "base_uri": "https://localhost:8080/"
        },
        "id": "lV7Kc0tg6k1i",
        "outputId": "36cec69a-a7cf-4133-867f-21983dd7f62a"
      },
      "execution_count": null,
      "outputs": [
        {
          "output_type": "stream",
          "name": "stdout",
          "text": [
            "<class 'float'>\n"
          ]
        }
      ]
    },
    {
      "cell_type": "markdown",
      "source": [
        "input\n"
      ],
      "metadata": {
        "id": "574JNlb38BFf"
      }
    },
    {
      "cell_type": "code",
      "source": [
        "a = int(input(\"Enter No.1: \"))\n",
        "b = int(input(\"Enter No.2: \"))\n",
        "\n",
        "print(\"No. a is: \", a)\n",
        "print(\"No. b is: \", b)\n",
        "print(\"Sum is \", a + b)"
      ],
      "metadata": {
        "colab": {
          "base_uri": "https://localhost:8080/"
        },
        "id": "wNfZLMCn8E6M",
        "outputId": "96819254-bb85-4943-ccf9-0c109a36fcef"
      },
      "execution_count": null,
      "outputs": [
        {
          "output_type": "stream",
          "name": "stdout",
          "text": [
            "Enter No.1: 1\n",
            "Enter No.2: 2\n",
            "No. a is:  1\n",
            "No. b is:  2\n",
            "Sum is  3\n"
          ]
        }
      ]
    },
    {
      "cell_type": "code",
      "source": [],
      "metadata": {
        "id": "Zz6mmOWV7CgF"
      },
      "execution_count": null,
      "outputs": []
    }
  ]
}