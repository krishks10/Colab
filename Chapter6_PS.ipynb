{
  "nbformat": 4,
  "nbformat_minor": 0,
  "metadata": {
    "colab": {
      "provenance": [],
      "authorship_tag": "ABX9TyPxeyl9c96fC49zVQFmGP8N",
      "include_colab_link": true
    },
    "kernelspec": {
      "name": "python3",
      "display_name": "Python 3"
    },
    "language_info": {
      "name": "python"
    }
  },
  "cells": [
    {
      "cell_type": "markdown",
      "metadata": {
        "id": "view-in-github",
        "colab_type": "text"
      },
      "source": [
        "<a href=\"https://colab.research.google.com/github/krishks10/Colab/blob/main/Chapter6_PS.ipynb\" target=\"_parent\"><img src=\"https://colab.research.google.com/assets/colab-badge.svg\" alt=\"Open In Colab\"/></a>"
      ]
    },
    {
      "cell_type": "code",
      "execution_count": null,
      "metadata": {
        "colab": {
          "base_uri": "https://localhost:8080/"
        },
        "id": "pypqI3sCrlrh",
        "outputId": "47fad35f-5190-4eaa-9067-bc12d5221219"
      },
      "outputs": [
        {
          "output_type": "stream",
          "name": "stdout",
          "text": [
            "Enter no.1 : 7\n",
            "Enter no.2 : 5\n",
            "Enter no.3 : 4\n",
            "Enter no.4 : 6\n",
            "7 is largest\n"
          ]
        }
      ],
      "source": [
        "a1= int(input(\"Enter no.1 : \"))\n",
        "a2= int(input(\"Enter no.2 : \"))\n",
        "a3= int(input(\"Enter no.3 : \"))\n",
        "a4= int(input(\"Enter no.4 : \"))\n",
        "\n",
        "if(a1>a2 and a1>a3 and a1>a4):\n",
        "    print(a1,\"is largest\")\n",
        "elif(a2>a1 and a2>a3 and a2>a4):\n",
        "    print(a2,\"is largest\")\n",
        "elif(a3>a1 and a3>a2 and a3>a4):\n",
        "    print(a3,\"is largest\")\n",
        "elif(a4>a1 and a4>a2 and a4>a3):\n",
        "    print(a4,\"is largest\")\n",
        "\n"
      ]
    },
    {
      "cell_type": "code",
      "source": [
        "marks1 = int(input(\"Enter mark1 : \"))\n",
        "marks2 = int(input(\"Enter mark2 : \"))\n",
        "marks3 = int(input(\"Enter mark3 : \"))\n",
        "marks4 = int(input(\"Enter mark4 : \"))\n",
        "\n",
        "total_percentage = (marks1+marks2+marks3+marks4)/400*100\n",
        "\n",
        "if(total_percentage>=40 and marks1>=33 and marks2>=33 and marks3>=33 and marks4>=33):\n",
        "    print(\"Passed\", total_percentage)\n",
        "else:\n",
        "    print(\"Failed, try again next year\", total_percentage)\n"
      ],
      "metadata": {
        "colab": {
          "base_uri": "https://localhost:8080/"
        },
        "id": "bPbJjeQftXR9",
        "outputId": "7cbfdf4d-3a25-4e95-974c-3a73dfa029d7"
      },
      "execution_count": null,
      "outputs": [
        {
          "output_type": "stream",
          "name": "stdout",
          "text": [
            "Enter mark1 : 45\n",
            "Enter mark2 : 36\n",
            "Enter mark3 : 78\n",
            "Enter mark4 : 62\n",
            "Passed 55.25\n"
          ]
        }
      ]
    },
    {
      "cell_type": "code",
      "source": [
        "p1 = \"make a lot money\"\n",
        "p2 = \"buy now\"\n",
        "p3 = \"subscribe this\"\n",
        "p4 = \"click this\"\n",
        "\n",
        "message = input(\"Enter your comment: \")\n",
        "\n",
        "if((p1 in message) or (p2 in message) or (p3 in message) or (p4 in message)):\n",
        "    print(\"This comment is a spam\")\n",
        "\n",
        "else:\n",
        "    print(\"This comment is not spam\")\n"
      ],
      "metadata": {
        "colab": {
          "base_uri": "https://localhost:8080/"
        },
        "id": "GvXMekOEvFAh",
        "outputId": "f2037d85-dea5-4719-a696-9aa9c4930e10"
      },
      "execution_count": null,
      "outputs": [
        {
          "output_type": "stream",
          "name": "stdout",
          "text": [
            "Enter your comment: nice bhai\n",
            "This comment is not spam\n"
          ]
        }
      ]
    },
    {
      "cell_type": "code",
      "source": [
        "username = input(\"Enter your username: \")\n",
        "\n",
        "if(len(username)<10):\n",
        "    print(\"Your username contains less than 10 character\")\n",
        "\n",
        "else:\n",
        "    print(\"Your username contains more or equal than 10 charracters\")"
      ],
      "metadata": {
        "id": "aoisRoWQkw5k",
        "colab": {
          "base_uri": "https://localhost:8080/"
        },
        "outputId": "8e9acfb5-1789-4e09-882d-be14ea50c486"
      },
      "execution_count": null,
      "outputs": [
        {
          "output_type": "stream",
          "name": "stdout",
          "text": [
            "Enter your username: krish sriavstav\n",
            "Your username contains more or equal than 10 charracters\n"
          ]
        }
      ]
    },
    {
      "cell_type": "code",
      "source": [
        "l = [\"Krish\", \"Rohan\", \"Harry\", \"Shubham\"]\n",
        "\n",
        "name = input(\"Enter your name: \")\n",
        "\n",
        "if(name in l):\n",
        "    print(\"Your name is present in the list\")\n",
        "else:\n",
        "    print(\"Your name is not  in the list\")"
      ],
      "metadata": {
        "id": "cp4CSsZK6yoc",
        "colab": {
          "base_uri": "https://localhost:8080/"
        },
        "outputId": "0543e4db-a9e4-4601-d771-b88cccc718ca"
      },
      "execution_count": null,
      "outputs": [
        {
          "output_type": "stream",
          "name": "stdout",
          "text": [
            "Enter your name: Krish\n",
            "Your name is present in the list\n"
          ]
        }
      ]
    },
    {
      "cell_type": "code",
      "source": [
        "marks = int(input(\"Enter your Marks: \"))\n",
        "\n",
        "if(marks<=100 and marks>=90):\n",
        "    grade = \"Ex\"\n",
        "\n",
        "elif(marks<=90 and marks>=80):\n",
        "    grade = \"A\"\n",
        "\n",
        "elif(marks<=80 and marks>=70):\n",
        "    grade = \"B\"\n",
        "\n",
        "elif(marks<=70 and marks>=60):\n",
        "    grade = \"C\"\n",
        "\n",
        "elif(marks<=60 and marks>=50):\n",
        "    grade = \"D\"\n",
        "\n",
        "elif(marks<=50 and marks>=40):\n",
        "    grade = \"F\"\n",
        "\n",
        "\n",
        "print(\"Your grade is\", grade)"
      ],
      "metadata": {
        "colab": {
          "base_uri": "https://localhost:8080/"
        },
        "id": "UTtcDI16lBX1",
        "outputId": "3f765b39-6853-4ff9-f75c-7ddcf31451de"
      },
      "execution_count": 9,
      "outputs": [
        {
          "output_type": "stream",
          "name": "stdout",
          "text": [
            "Enter your Marks: 30\n",
            "Your grade is F\n"
          ]
        }
      ]
    },
    {
      "cell_type": "code",
      "source": [
        "post = input(\"Enter the post: \")\n",
        "\n",
        "\n",
        "\n",
        "if(\"harry\" in post.lower()):\n",
        "    print(\"This post is about Harry\")\n",
        "\n",
        "else:\n",
        "    print(\"This post is not about Harry\")\n",
        "\n",
        ""
      ],
      "metadata": {
        "colab": {
          "base_uri": "https://localhost:8080/"
        },
        "id": "nN1nanuotuyy",
        "outputId": "56dd480a-21f2-428b-d6f2-69c67380fd39"
      },
      "execution_count": 13,
      "outputs": [
        {
          "output_type": "stream",
          "name": "stdout",
          "text": [
            "Enter the post: haRRY\n",
            "This post is about Harry\n"
          ]
        }
      ]
    }
  ]
}